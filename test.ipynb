{
 "metadata": {
  "language_info": {
   "codemirror_mode": {
    "name": "ipython",
    "version": 3
   },
   "file_extension": ".py",
   "mimetype": "text/x-python",
   "name": "python",
   "nbconvert_exporter": "python",
   "pygments_lexer": "ipython3",
   "version": "3.8.5-final"
  },
  "orig_nbformat": 2,
  "kernelspec": {
   "name": "python3",
   "display_name": "Python 3.8.5 64-bit ('base': conda)",
   "metadata": {
    "interpreter": {
     "hash": "0502f4d0b368ea295d19c82d840b74bf66f130c43fd090cbf09d4b521f9f7a54"
    }
   }
  }
 },
 "nbformat": 4,
 "nbformat_minor": 2,
 "cells": [
  {
   "cell_type": "code",
   "execution_count": 1,
   "metadata": {
    "tags": []
   },
   "outputs": [
    {
     "output_type": "error",
     "ename": "TypeError",
     "evalue": "__init__() missing 1 required positional argument: 'proj'",
     "traceback": [
      "\u001b[0;31m---------------------------------------------------------------------------\u001b[0m",
      "\u001b[0;31mTypeError\u001b[0m                                 Traceback (most recent call last)",
      "\u001b[0;32m<ipython-input-1-c95a5f8bb7f2>\u001b[0m in \u001b[0;36m<module>\u001b[0;34m\u001b[0m\n\u001b[1;32m      1\u001b[0m \u001b[0;32mfrom\u001b[0m \u001b[0mdependency\u001b[0m \u001b[0;32mimport\u001b[0m \u001b[0;34m*\u001b[0m\u001b[0;34m\u001b[0m\u001b[0;34m\u001b[0m\u001b[0m\n\u001b[1;32m      2\u001b[0m \u001b[0;32mfrom\u001b[0m \u001b[0mpathlib\u001b[0m \u001b[0;32mimport\u001b[0m \u001b[0mPath\u001b[0m\u001b[0;34m\u001b[0m\u001b[0;34m\u001b[0m\u001b[0m\n\u001b[0;32m----> 3\u001b[0;31m \u001b[0mbundle\u001b[0m \u001b[0;34m=\u001b[0m \u001b[0mBundle\u001b[0m\u001b[0;34m(\u001b[0m\u001b[0mPath\u001b[0m\u001b[0;34m(\u001b[0m\u001b[0;34m\"/home/algor/.p2/\"\u001b[0m\u001b[0;34m)\u001b[0m\u001b[0;34m,\u001b[0m \u001b[0;34m\"org.eclipse.xtext\"\u001b[0m\u001b[0;34m)\u001b[0m\u001b[0;34m\u001b[0m\u001b[0;34m\u001b[0m\u001b[0m\n\u001b[0m\u001b[1;32m      4\u001b[0m \u001b[0mbundle\u001b[0m\u001b[0;34m.\u001b[0m\u001b[0mupdate_jars\u001b[0m\u001b[0;34m(\u001b[0m\u001b[0;34m)\u001b[0m\u001b[0;34m\u001b[0m\u001b[0;34m\u001b[0m\u001b[0m\n\u001b[1;32m      5\u001b[0m \u001b[0mbundle\u001b[0m\u001b[0;34m.\u001b[0m\u001b[0mjars\u001b[0m\u001b[0;34m\u001b[0m\u001b[0;34m\u001b[0m\u001b[0m\n",
      "\u001b[0;31mTypeError\u001b[0m: __init__() missing 1 required positional argument: 'proj'"
     ]
    }
   ],
   "source": [
    "from dependency import *\n",
    "from pathlib import Path\n",
    "bundle = Bundle(Path(\"/home/algor/.p2/\"), \"org.eclipse.xtext\")\n",
    "bundle.update_jars()\n",
    "bundle.jars\n",
    "bundle.get_manifest_file_lines()\n",
    "bundle.update_dependencies()\n",
    "print(bundle)\n",
    "print(bundle.get_exported_dependencies())"
   ]
  },
  {
   "cell_type": "code",
   "execution_count": 1,
   "metadata": {},
   "outputs": [
    {
     "output_type": "stream",
     "name": "stdout",
     "text": [
      "/home/algor/git/raox/ru.bmstu.rk9.rao\n[PosixPath('/home/algor/git/raox/gitflow.md'), PosixPath('/home/algor/git/raox/ru.bmstu.rk9.rao.ui'), PosixPath('/home/algor/git/raox/build-with-maven.md'), PosixPath('/home/algor/git/raox/pom.xml'), PosixPath('/home/algor/git/raox/README.md'), PosixPath('/home/algor/git/raox/.gitattributes'), PosixPath('/home/algor/git/raox/ru.bmstu.rk9.rao.sdk'), PosixPath('/home/algor/git/raox/.git'), PosixPath('/home/algor/git/raox/deploy'), PosixPath('/home/algor/git/raox/ru.bmstu.rk9.rao.plugins'), PosixPath('/home/algor/git/raox/ru.bmstu.rk9.rao.rcptt'), PosixPath('/home/algor/git/raox/docs'), PosixPath('/home/algor/git/raox/.settings'), PosixPath('/home/algor/git/raox/ru.bmstu.rk9.rao.tests'), PosixPath('/home/algor/git/raox/.travis.yml'), PosixPath('/home/algor/git/raox/.project'), PosixPath('/home/algor/git/raox/assembly'), PosixPath('/home/algor/git/raox/ru.bmstu.rk9.rao'), PosixPath('/home/algor/git/raox/ru.bmstu.rk9.rao.lib'), PosixPath('/home/algor/git/raox/.gitignore')]\nru.bmstu.rk9.rao | 0 jars | 0 deps\nru.bmstu.rk9.rao | 0 jars | 15 deps\n"
     ]
    },
    {
     "output_type": "execute_result",
     "data": {
      "text/plain": [
       "[org.eclipse.xtext,\n",
       " org.eclipse.equinox.common,\n",
       " org.apache.commons.logging,\n",
       " org.eclipse.emf.codegen.ecore,\n",
       " org.eclipse.emf.mwe.utils,\n",
       " org.eclipse.emf.mwe2.launch,\n",
       " org.eclipse.xtext.util,\n",
       " org.eclipse.emf.ecore,\n",
       " org.eclipse.emf.common,\n",
       " org.eclipse.xtext.xbase.lib,\n",
       " org.antlr.runtime,\n",
       " org.eclipse.xtext.common.types,\n",
       " org.objectweb.asm,\n",
       " org.eclipse.xtext.xbase]"
      ]
     },
     "metadata": {},
     "execution_count": 1
    }
   ],
   "source": [
    "from dependency import *\n",
    "from pathlib import Path\n",
    "project = Project(\"/home/algor/git/raox/\", \"ru.bmstu.rk9.rao\")\n",
    "print(project.module_path())\n",
    "print(list(project.list_root()))\n",
    "bundle = Bundle(\"/home/algor/.p2/\", project.module_root, project)\n",
    "print(bundle)\n",
    "bundle.update_dependencies()\n",
    "print(bundle)\n",
    "bundle.get_dependencies(False)"
   ]
  },
  {
   "cell_type": "code",
   "execution_count": 3,
   "metadata": {},
   "outputs": [
    {
     "output_type": "execute_result",
     "data": {
      "text/plain": [
       "PosixPath('/home/algor/git/raox/ru.bmstu.rk9.rao')"
      ]
     },
     "metadata": {},
     "execution_count": 3
    }
   ],
   "source": []
  },
  {
   "cell_type": "code",
   "execution_count": 3,
   "metadata": {},
   "outputs": [
    {
     "output_type": "execute_result",
     "data": {
      "text/plain": [
       "[PosixPath('/home/algor/git/raox/gitflow.md'),\n",
       " PosixPath('/home/algor/git/raox/ru.bmstu.rk9.rao.ui'),\n",
       " PosixPath('/home/algor/git/raox/build-with-maven.md'),\n",
       " PosixPath('/home/algor/git/raox/pom.xml'),\n",
       " PosixPath('/home/algor/git/raox/README.md'),\n",
       " PosixPath('/home/algor/git/raox/.gitattributes'),\n",
       " PosixPath('/home/algor/git/raox/ru.bmstu.rk9.rao.sdk'),\n",
       " PosixPath('/home/algor/git/raox/.git'),\n",
       " PosixPath('/home/algor/git/raox/deploy'),\n",
       " PosixPath('/home/algor/git/raox/ru.bmstu.rk9.rao.plugins'),\n",
       " PosixPath('/home/algor/git/raox/ru.bmstu.rk9.rao.rcptt'),\n",
       " PosixPath('/home/algor/git/raox/docs'),\n",
       " PosixPath('/home/algor/git/raox/.settings'),\n",
       " PosixPath('/home/algor/git/raox/ru.bmstu.rk9.rao.tests'),\n",
       " PosixPath('/home/algor/git/raox/.travis.yml'),\n",
       " PosixPath('/home/algor/git/raox/.project'),\n",
       " PosixPath('/home/algor/git/raox/assembly'),\n",
       " PosixPath('/home/algor/git/raox/ru.bmstu.rk9.rao'),\n",
       " PosixPath('/home/algor/git/raox/ru.bmstu.rk9.rao.lib'),\n",
       " PosixPath('/home/algor/git/raox/.gitignore')]"
      ]
     },
     "metadata": {},
     "execution_count": 3
    }
   ],
   "source": [
    "list(project.list_root())"
   ]
  },
  {
   "cell_type": "code",
   "execution_count": 5,
   "metadata": {},
   "outputs": [
    {
     "output_type": "execute_result",
     "data": {
      "text/plain": [
       "True"
      ]
     },
     "metadata": {},
     "execution_count": 5
    }
   ],
   "source": [
    "project.is_in_root(\"ru.bmstu.rk9.rao.ui\")"
   ]
  },
  {
   "cell_type": "code",
   "execution_count": null,
   "metadata": {},
   "outputs": [],
   "source": []
  }
 ]
}