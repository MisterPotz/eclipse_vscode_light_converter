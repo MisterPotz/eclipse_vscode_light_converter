{
 "metadata": {
  "language_info": {
   "codemirror_mode": {
    "name": "ipython",
    "version": 3
   },
   "file_extension": ".py",
   "mimetype": "text/x-python",
   "name": "python",
   "nbconvert_exporter": "python",
   "pygments_lexer": "ipython3",
   "version": "3.8.5-final"
  },
  "orig_nbformat": 2,
  "kernelspec": {
   "name": "python3",
   "display_name": "Python 3.8.5 64-bit ('base': conda)",
   "metadata": {
    "interpreter": {
     "hash": "0502f4d0b368ea295d19c82d840b74bf66f130c43fd090cbf09d4b521f9f7a54"
    }
   }
  }
 },
 "nbformat": 4,
 "nbformat_minor": 2,
 "cells": [
  {
   "cell_type": "code",
   "execution_count": 3,
   "metadata": {
    "tags": []
   },
   "outputs": [
    {
     "output_type": "stream",
     "name": "stdout",
     "text": [
      "(org.eclipse.xtext)(\\.source)?_[\\.a-zA-Z0-9-]+\\.jar (org.eclipse.xtext)_[\\.a-zA-Z0-9-]+\\.jar\norg.eclipse.xtext | 2 jars | 14 deps\n[org.eclipse.emf.ecore.xmi : exp True, org.eclipse.emf.ecore : exp True, org.antlr.runtime : exp True, com.google.inject : exp True, org.eclipse.emf.mwe.core : exp True, org.eclipse.emf.mwe.utils : exp True, org.eclipse.xtext.util : exp True]\n"
     ]
    }
   ],
   "source": [
    "from dependency import *\n",
    "from pathlib import Path\n",
    "bundle = Bundle(Path(\"/home/algor/.p2/\"), \"org.eclipse.xtext\")\n",
    "bundle.update_jars()\n",
    "bundle.jars\n",
    "bundle.get_manifest_file_lines()\n",
    "bundle.update_dependencies()\n",
    "print(bundle)\n",
    "print(bundle.get_exported_dependencies())"
   ]
  },
  {
   "cell_type": "code",
   "execution_count": 2,
   "metadata": {
    "tags": []
   },
   "outputs": [
    {
     "output_type": "stream",
     "name": "stdout",
     "text": [
      "(org.eclipse.emf.ecore.xmi)(\\.source)?_[\\.a-zA-Z0-9-]+\\.jar (org.eclipse.emf.ecore.xmi)_[\\.a-zA-Z0-9-]+\\.jar\norg.eclipse.emf.ecore.xmi | 0 jars | 0 deps\norg.eclipse.emf.ecore.xmi | 2 jars | 0 deps\n['org.eclipse.emf.ecore.xmi_2.16.0.v20190528-0725.jar', 'org.eclipse.emf.ecore.xmi.source_2.16.0.v20190528-0725.jar']\n[org.eclipse.core.runtime : exp False, org.eclipse.emf.ecore : exp True]\norg.eclipse.emf.ecore.xmi | 2 jars | 2 deps\nexported deps [org.eclipse.emf.ecore : exp True]\n"
     ]
    }
   ],
   "source": [
    "dependencies = parse_manifest_file_lines(test_deps)\n",
    "bundle = dependencies[0].to_bundle(Path(\"/home/algor/.p2/\"))\n",
    "print(bundle)\n",
    "bundle.update_jars()\n",
    "print(bundle)\n",
    "print(bundle.jars)\n",
    "bundle.update_dependencies()\n",
    "print(bundle.dependencies)\n",
    "print(bundle)\n",
    "print(f\"exported deps {bundle.get_exported_dependencies()}\")"
   ]
  },
  {
   "cell_type": "code",
   "execution_count": null,
   "metadata": {},
   "outputs": [],
   "source": []
  }
 ]
}