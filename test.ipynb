{
 "metadata": {
  "language_info": {
   "codemirror_mode": {
    "name": "ipython",
    "version": 3
   },
   "file_extension": ".py",
   "mimetype": "text/x-python",
   "name": "python",
   "nbconvert_exporter": "python",
   "pygments_lexer": "ipython3",
   "version": "3.8.5-final"
  },
  "orig_nbformat": 2,
  "kernelspec": {
   "name": "python3",
   "display_name": "Python 3.8.5 64-bit ('base': conda)",
   "metadata": {
    "interpreter": {
     "hash": "0502f4d0b368ea295d19c82d840b74bf66f130c43fd090cbf09d4b521f9f7a54"
    }
   }
  }
 },
 "nbformat": 4,
 "nbformat_minor": 2,
 "cells": [
  {
   "cell_type": "code",
   "execution_count": 16,
   "metadata": {
    "tags": []
   },
   "outputs": [
    {
     "output_type": "stream",
     "name": "stdout",
     "text": [
      "org.eclipse.xtext | 2 jars | 14 deps | 7 exported\n[org.eclipse.emf.ecore.xmi, org.eclipse.emf.ecore, org.antlr.runtime, com.google.inject, org.eclipse.emf.mwe.core, org.eclipse.emf.mwe.utils, org.eclipse.xtext.util]\n"
     ]
    }
   ],
   "source": [
    "from dependency import *\n",
    "from pathlib import Path\n",
    "bundle = Bundle(Path(\"/home/algor/.p2/\"), \"org.eclipse.xtext\")\n",
    "bundle.update_jars()\n",
    "bundle.jars\n",
    "bundle.get_manifest_file_lines()\n",
    "bundle.update_dependencies()\n",
    "print(bundle)\n",
    "print(bundle.get_exported_dependencies())"
   ]
  },
  {
   "cell_type": "code",
   "execution_count": null,
   "metadata": {},
   "outputs": [],
   "source": [
    "bundle.collect_exported_dependencies()"
   ]
  },
  {
   "cell_type": "code",
   "execution_count": 50,
   "metadata": {
    "tags": []
   },
   "outputs": [
    {
     "output_type": "stream",
     "name": "stdout",
     "text": [
      "org.eclipse.xtext.xbase | 2 jars | 0 deps | 0 exported\n[\n\torg.eclipse.xtext : exported 0,\n\torg.eclipse.xtext.common.types : exported 1,\n\torg.eclipse.xtext.util : exported 0,\n\torg.eclipse.emf.ecore : exported 0,\n\torg.eclipse.emf.common : exported 0,\n\torg.antlr.runtime : exported 0,\n\torg.eclipse.xtext.xbase.lib : exported 0,\n\torg.eclipse.xtend.lib : exported 1,\n\torg.objectweb.asm : exported 0\n]\n"
     ]
    }
   ],
   "source": [
    "import dependency as dp\n",
    "from pathlib import Path\n",
    "import importlib\n",
    "importlib.reload(dp)\n",
    "\n",
    "bundle = dp.Bundle(\"/home/algor/.p2/\", \"org.eclipse.xtext.xbase\")\n",
    "bundle.update_jars()\n",
    "print(bundle)\n",
    "bundle.update_dependencies()\n",
    "pretty_print(bundle.get_dependencies(False))"
   ]
  },
  {
   "cell_type": "code",
   "execution_count": 24,
   "metadata": {},
   "outputs": [],
   "source": [
    "import dependency as dp\n",
    "import importlib\n",
    "importlib.reload(dp)\n",
    "\n",
    "project = dp.Project(\"/home/algor/git/raox\", \"ru.bmstu.rk9.rao\")\n",
    "bundle = dp.Bundle(\"/home/algor/.p2/\", project.module_root, project)\n",
    "bundle.update_dependencies()\n"
   ]
  },
  {
   "cell_type": "code",
   "execution_count": 25,
   "metadata": {},
   "outputs": [
    {
     "output_type": "execute_result",
     "data": {
      "text/plain": [
       "{com.google.guava | 2 jars | 37 deps | 0 exported,\n",
       " com.google.inject | 1 jars | 8 deps | 0 exported,\n",
       " javax.inject | 2 jars | 1 deps | 0 exported,\n",
       " org.antlr.runtime | 1 jars | 4 deps | 0 exported,\n",
       " org.apache.commons.cli | 1 jars | 2 deps | 0 exported,\n",
       " org.apache.commons.logging | 2 jars | 8 deps | 0 exported,\n",
       " org.eclipse.emf.codegen | 2 jars | 7 deps | 1 exported,\n",
       " org.eclipse.emf.codegen.ecore | 2 jars | 8 deps | 2 exported,\n",
       " org.eclipse.emf.common | 2 jars | 1 deps | 0 exported,\n",
       " org.eclipse.emf.ecore | 2 jars | 3 deps | 1 exported,\n",
       " org.eclipse.emf.ecore.xmi | 2 jars | 2 deps | 1 exported,\n",
       " org.eclipse.emf.mwe.core | 1 jars | 5 deps | 3 exported,\n",
       " org.eclipse.emf.mwe.utils | 1 jars | 3 deps | 0 exported,\n",
       " org.eclipse.emf.mwe2.language | 2 jars | 11 deps | 1 exported,\n",
       " org.eclipse.emf.mwe2.launch | 2 jars | 10 deps | 3 exported,\n",
       " org.eclipse.emf.mwe2.runtime | 2 jars | 1 deps | 0 exported,\n",
       " org.eclipse.equinox.common | 2 jars | 16 deps | 0 exported,\n",
       " org.eclipse.xtend.lib | 2 jars | 2 deps | 2 exported,\n",
       " org.eclipse.xtend.lib.macro | 2 jars | 1 deps | 1 exported,\n",
       " org.eclipse.xtext | 2 jars | 14 deps | 7 exported,\n",
       " org.eclipse.xtext.common.types | 2 jars | 8 deps | 0 exported,\n",
       " org.eclipse.xtext.util | 2 jars | 5 deps | 3 exported,\n",
       " org.eclipse.xtext.xbase | 2 jars | 9 deps | 2 exported,\n",
       " org.eclipse.xtext.xbase.lib | 2 jars | 1 deps | 1 exported,\n",
       " org.objectweb.asm | 2 jars | 3 deps | 0 exported}"
      ]
     },
     "metadata": {},
     "execution_count": 25
    }
   ],
   "source": [
    "bundle.collect_exported_dependencies()"
   ]
  },
  {
   "cell_type": "code",
   "execution_count": 26,
   "metadata": {},
   "outputs": [
    {
     "output_type": "stream",
     "name": "stdout",
     "text": [
      "/home/algor/git/raox/ru.bmstu.rk9.rao/.classpath ['<?xml version=\"1.0\" encoding=\"UTF-8\"?>\\n', '<classpath>\\n', '\\t<classpathentry kind=\"con\" path=\"org.eclipse.jdt.launching.JRE_CONTAINER/org.eclipse.jdt.internal.debug.ui.launcher.StandardVMType/JavaSE-1.8\"/>\\n', '\\t<classpathentry kind=\"con\" path=\"org.eclipse.pde.core.requiredPlugins\"/>\\n', '\\t<classpathentry kind=\"src\" path=\"src/\"/>\\n', '\\t<classpathentry kind=\"src\" path=\"src-gen/\"/>\\n', '\\t<classpathentry kind=\"src\" path=\"xtend-gen/\"/>\\n', '\\t<classpathentry kind=\"output\" path=\"target/classes\"/>\\n', '</classpath>\\n']\n"
     ]
    }
   ],
   "source": [
    "bundle.merge_with_classpath()"
   ]
  },
  {
   "cell_type": "code",
   "execution_count": null,
   "metadata": {},
   "outputs": [],
   "source": []
  }
 ]
}