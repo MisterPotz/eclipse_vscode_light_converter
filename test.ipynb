{
 "metadata": {
  "language_info": {
   "codemirror_mode": {
    "name": "ipython",
    "version": 3
   },
   "file_extension": ".py",
   "mimetype": "text/x-python",
   "name": "python",
   "nbconvert_exporter": "python",
   "pygments_lexer": "ipython3",
   "version": "3.8.5-final"
  },
  "orig_nbformat": 2,
  "kernelspec": {
   "name": "python3",
   "display_name": "Python 3",
   "language": "python"
  }
 },
 "nbformat": 4,
 "nbformat_minor": 2,
 "cells": [
  {
   "cell_type": "code",
   "execution_count": 88,
   "metadata": {
    "tags": []
   },
   "outputs": [
    {
     "output_type": "stream",
     "name": "stdout",
     "text": [
      "[b'requires.1.namespace=java.package\\n', b'requires.1.name=org.eclipse.swt.accessibility2\\n', b'requires.1.optional=true\\n', b'requires.1.greedy=false\\n', b'requires.1.range=0.0.0\\n', b'\\n', b'# ensure that the applicable implementation fragment gets installed (bug 361901)\\n', b'requires.2.namespace = org.eclipse.equinox.p2.iu\\n', b'requires.2.name = org.eclipse.swt.win32.win32.x86_64\\n', b'requires.2.range = [$version$,$version$]\\n', b'requires.2.filter = (&(osgi.os=win32)(osgi.ws=win32)(osgi.arch=x86_64)(!(org.eclipse.swt.buildtime=true)))\\n', b'\\n', b'requires.3.namespace = org.eclipse.equinox.p2.iu\\n', b'requires.3.name = org.eclipse.swt.cocoa.macosx.x86_64\\n', b'requires.3.range = [$version$,$version$]\\n', b'requires.3.filter = (&(osgi.os=macosx)(osgi.ws=cocoa)(osgi.arch=x86_64)(!(org.eclipse.swt.buildtime=true)))\\n', b'\\n', b'requires.4.namespace = org.eclipse.equinox.p2.iu\\n', b'requires.4.name = org.eclipse.swt.gtk.linux.x86_64\\n', b'requires.4.range = [$version$,$version$]\\n', b'requires.4.filter = (&(osgi.os=linux)(osgi.ws=gtk)(osgi.arch=x86_64)(!(org.eclipse.swt.buildtime=true)))\\n', b'\\n', b'requires.5.namespace = org.eclipse.equinox.p2.iu\\n', b'requires.5.name = org.eclipse.swt.gtk.linux.ppc64le\\n', b'requires.5.range = [$version$,$version$]\\n', b'requires.5.filter = (&(osgi.os=linux)(osgi.ws=gtk)(osgi.arch=ppc64le)(!(org.eclipse.swt.buildtime=true)))\\n', b'\\n', b'requires.6.namespace = org.eclipse.equinox.p2.iu\\n', b'requires.6.name = org.eclipse.swt.gtk.linux.aarch64\\n', b'requires.6.range = [$version$,$version$]\\n', b'requires.6.filter = (&(osgi.os=linux)(osgi.ws=gtk)(osgi.arch=aarch64)(!(org.eclipse.swt.buildtime=true)))\\n']\n['requires.1.name=org.eclipse.swt.accessibility2', 'requires.2.name = org.eclipse.swt.win32.win32.x86_64', 'requires.3.name = org.eclipse.swt.cocoa.macosx.x86_64', 'requires.4.name = org.eclipse.swt.gtk.linux.x86_64', 'requires.5.name = org.eclipse.swt.gtk.linux.ppc64le', 'requires.6.name = org.eclipse.swt.gtk.linux.aarch64']\norg.eclipse.swt.accessibility2\n org.eclipse.swt.win32.win32.x86_64\n org.eclipse.swt.cocoa.macosx.x86_64\n org.eclipse.swt.gtk.linux.x86_64\n org.eclipse.swt.gtk.linux.ppc64le\n org.eclipse.swt.gtk.linux.aarch64\n['org.eclipse.swt.accessibility2', 'org.eclipse.swt.win32.win32.x86_64', 'org.eclipse.swt.cocoa.macosx.x86_64', 'org.eclipse.swt.gtk.linux.x86_64', 'org.eclipse.swt.gtk.linux.ppc64le', 'org.eclipse.swt.gtk.linux.aarch64']\n[org.eclipse.swt.accessibility2, org.eclipse.swt.win32.win32.x86_64, org.eclipse.swt.cocoa.macosx.x86_64, org.eclipse.swt.gtk.linux.x86_64, org.eclipse.swt.gtk.linux.ppc64le, org.eclipse.swt.gtk.linux.aarch64]\n"
     ]
    },
    {
     "output_type": "execute_result",
     "data": {
      "text/plain": [
       "[org.eclipse.swt.accessibility2,\n",
       " org.eclipse.swt.win32.win32.x86_64,\n",
       " org.eclipse.swt.cocoa.macosx.x86_64,\n",
       " org.eclipse.swt.gtk.linux.x86_64,\n",
       " org.eclipse.swt.gtk.linux.ppc64le,\n",
       " org.eclipse.swt.gtk.linux.aarch64]"
      ]
     },
     "metadata": {},
     "execution_count": 88
    }
   ],
   "source": [
    "import dependency as dp\n",
    "import importlib\n",
    "importlib.reload(dp)\n",
    "\n",
    "# project = dp.Project(\"/home/algor/git/raox\", \"ru.bmstu.rk9.rao\")\n",
    "# bundle = dp.Bund\n",
    "# le(\"/home/algor/.p2/\", project.module_root, project)\n",
    "# bundle.update_dependencies()\n",
    "bundle = dp.Bundle(\"/Users/algor/.p2/\", \"org.eclipse.swt\")\n",
    "bundle.update_jars()\n",
    "bundle.update_dependencies()\n",
    "bundle.dependencies"
   ]
  },
  {
   "cell_type": "code",
   "execution_count": 87,
   "metadata": {},
   "outputs": [
    {
     "output_type": "stream",
     "name": "stdout",
     "text": [
      "['requires.1.name=org.eclipse.swt.accessibility2', 'requires.2.name = org.eclipse.swt.win32.win32.x86_64', 'requires.3.name = org.eclipse.swt.cocoa.macosx.x86_64', 'requires.4.name = org.eclipse.swt.gtk.linux.x86_64', 'requires.5.name = org.eclipse.swt.gtk.linux.ppc64le', 'requires.6.name = org.eclipse.swt.gtk.linux.aarch64']\norg.eclipse.swt.accessibility2\n org.eclipse.swt.win32.win32.x86_64\n org.eclipse.swt.cocoa.macosx.x86_64\n org.eclipse.swt.gtk.linux.x86_64\n org.eclipse.swt.gtk.linux.ppc64le\n org.eclipse.swt.gtk.linux.aarch64\n['org.eclipse.swt.accessibility2', 'org.eclipse.swt.win32.win32.x86_64', 'org.eclipse.swt.cocoa.macosx.x86_64', 'org.eclipse.swt.gtk.linux.x86_64', 'org.eclipse.swt.gtk.linux.ppc64le', 'org.eclipse.swt.gtk.linux.aarch64']\n[org.eclipse.swt.accessibility2, org.eclipse.swt.win32.win32.x86_64, org.eclipse.swt.cocoa.macosx.x86_64, org.eclipse.swt.gtk.linux.x86_64, org.eclipse.swt.gtk.linux.ppc64le, org.eclipse.swt.gtk.linux.aarch64]\n"
     ]
    },
    {
     "output_type": "execute_result",
     "data": {
      "text/plain": [
       "[org.eclipse.swt.accessibility2,\n",
       " org.eclipse.swt.win32.win32.x86_64,\n",
       " org.eclipse.swt.cocoa.macosx.x86_64,\n",
       " org.eclipse.swt.gtk.linux.x86_64,\n",
       " org.eclipse.swt.gtk.linux.ppc64le,\n",
       " org.eclipse.swt.gtk.linux.aarch64]"
      ]
     },
     "metadata": {},
     "execution_count": 87
    }
   ],
   "source": [
    "dp.parse_p2_info_file_lines(dp.test_dep_p2.split(\"\\n\"))"
   ]
  },
  {
   "cell_type": "code",
   "execution_count": 74,
   "metadata": {},
   "outputs": [],
   "source": [
    "import re\n",
    "requires_pattern = re.compile(r\"[\\s]*(requires)\\.[0-9]+\\.(name)[\\s]*\\=[\\s]*.*\")"
   ]
  },
  {
   "cell_type": "code",
   "execution_count": 75,
   "metadata": {},
   "outputs": [
    {
     "output_type": "execute_result",
     "data": {
      "text/plain": [
       "<re.Match object; span=(0, 53), match='requires.3.name = org.eclipse.swt.cocoa.macosx.x8>"
      ]
     },
     "metadata": {},
     "execution_count": 75
    }
   ],
   "source": [
    "re.fullmatch(requires_pattern, \"requires.3.name = org.eclipse.swt.cocoa.macosx.x86_64\")"
   ]
  }
 ]
}