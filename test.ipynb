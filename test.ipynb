{
 "metadata": {
  "language_info": {
   "codemirror_mode": {
    "name": "ipython",
    "version": 3
   },
   "file_extension": ".py",
   "mimetype": "text/x-python",
   "name": "python",
   "nbconvert_exporter": "python",
   "pygments_lexer": "ipython3",
   "version": "3.8.5-final"
  },
  "orig_nbformat": 2,
  "kernelspec": {
   "name": "python3",
   "display_name": "Python 3",
   "language": "python"
  }
 },
 "nbformat": 4,
 "nbformat_minor": 2,
 "cells": [
  {
   "cell_type": "code",
   "execution_count": 1,
   "metadata": {
    "tags": []
   },
   "outputs": [
    {
     "output_type": "execute_result",
     "data": {
      "text/plain": [
       "{com.google.guava | 2 jars | 0 deps | 0 exported,\n",
       " com.google.inject | 1 jars | 0 deps | 0 exported,\n",
       " javax.inject | 2 jars | 0 deps | 0 exported,\n",
       " org.antlr.runtime | 1 jars | 0 deps | 0 exported,\n",
       " org.apache.commons.cli | 1 jars | 0 deps | 0 exported,\n",
       " org.eclipse.compare | 2 jars | 0 deps | 0 exported,\n",
       " org.eclipse.compare.core | 2 jars | 0 deps | 0 exported,\n",
       " org.eclipse.core.commands | 2 jars | 0 deps | 0 exported,\n",
       " org.eclipse.core.contenttype | 2 jars | 0 deps | 0 exported,\n",
       " org.eclipse.core.filebuffers | 2 jars | 0 deps | 0 exported,\n",
       " org.eclipse.core.jobs | 2 jars | 0 deps | 0 exported,\n",
       " org.eclipse.core.resources | 2 jars | 0 deps | 0 exported,\n",
       " org.eclipse.core.runtime | 2 jars | 0 deps | 0 exported,\n",
       " org.eclipse.debug.core | 2 jars | 0 deps | 0 exported,\n",
       " org.eclipse.debug.ui | 2 jars | 0 deps | 0 exported,\n",
       " org.eclipse.draw2d | 1 jars | 0 deps | 0 exported,\n",
       " org.eclipse.e4.ui.ide | 2 jars | 0 deps | 0 exported,\n",
       " org.eclipse.e4.ui.workbench3 | 2 jars | 0 deps | 0 exported,\n",
       " org.eclipse.emf.common | 2 jars | 0 deps | 0 exported,\n",
       " org.eclipse.emf.common.ui | 2 jars | 0 deps | 0 exported,\n",
       " org.eclipse.emf.ecore | 2 jars | 0 deps | 0 exported,\n",
       " org.eclipse.emf.ecore.change | 2 jars | 0 deps | 0 exported,\n",
       " org.eclipse.emf.ecore.xmi | 2 jars | 0 deps | 0 exported,\n",
       " org.eclipse.emf.edit | 2 jars | 0 deps | 0 exported,\n",
       " org.eclipse.emf.edit.ui | 2 jars | 0 deps | 0 exported,\n",
       " org.eclipse.emf.mwe.core | 1 jars | 0 deps | 0 exported,\n",
       " org.eclipse.emf.mwe.utils | 1 jars | 0 deps | 0 exported,\n",
       " org.eclipse.emf.mwe2.runtime | 2 jars | 0 deps | 0 exported,\n",
       " org.eclipse.equinox.app | 2 jars | 0 deps | 0 exported,\n",
       " org.eclipse.equinox.common | 2 jars | 0 deps | 0 exported,\n",
       " org.eclipse.equinox.preferences | 2 jars | 0 deps | 0 exported,\n",
       " org.eclipse.equinox.registry | 2 jars | 0 deps | 0 exported,\n",
       " org.eclipse.gef | 1 jars | 0 deps | 0 exported,\n",
       " org.eclipse.jdt.core | 2 jars | 0 deps | 0 exported,\n",
       " org.eclipse.jdt.debug.ui | 2 jars | 0 deps | 0 exported,\n",
       " org.eclipse.jdt.launching | 2 jars | 0 deps | 0 exported,\n",
       " org.eclipse.jdt.ui | 2 jars | 0 deps | 0 exported,\n",
       " org.eclipse.jface | 2 jars | 0 deps | 0 exported,\n",
       " org.eclipse.jface.text | 2 jars | 0 deps | 0 exported,\n",
       " org.eclipse.ltk.core.refactoring | 2 jars | 0 deps | 0 exported,\n",
       " org.eclipse.osgi | 2 jars | 0 deps | 0 exported,\n",
       " org.eclipse.swt | 1 jars | 0 deps | 0 exported,\n",
       " org.eclipse.swt.cocoa.macosx.x86_64 | 2 jars | 0 deps | 0 exported,\n",
       " org.eclipse.text | 2 jars | 0 deps | 0 exported,\n",
       " org.eclipse.ui | 2 jars | 0 deps | 0 exported,\n",
       " org.eclipse.ui.console | 2 jars | 0 deps | 0 exported,\n",
       " org.eclipse.ui.editors | 2 jars | 0 deps | 0 exported,\n",
       " org.eclipse.ui.ide | 2 jars | 0 deps | 0 exported,\n",
       " org.eclipse.ui.views | 2 jars | 0 deps | 0 exported,\n",
       " org.eclipse.ui.workbench | 2 jars | 0 deps | 0 exported,\n",
       " org.eclipse.xtend.lib | 2 jars | 0 deps | 0 exported,\n",
       " org.eclipse.xtend.lib.macro | 2 jars | 0 deps | 0 exported,\n",
       " org.eclipse.xtext | 2 jars | 0 deps | 0 exported,\n",
       " org.eclipse.xtext.builder | 2 jars | 0 deps | 0 exported,\n",
       " org.eclipse.xtext.common.types | 2 jars | 0 deps | 0 exported,\n",
       " org.eclipse.xtext.common.types.edit | 2 jars | 0 deps | 0 exported,\n",
       " org.eclipse.xtext.common.types.ui | 2 jars | 0 deps | 0 exported,\n",
       " org.eclipse.xtext.ide | 2 jars | 0 deps | 0 exported,\n",
       " org.eclipse.xtext.ui | 2 jars | 0 deps | 0 exported,\n",
       " org.eclipse.xtext.ui.codetemplates | 2 jars | 0 deps | 0 exported,\n",
       " org.eclipse.xtext.ui.codetemplates.ide | 2 jars | 0 deps | 0 exported,\n",
       " org.eclipse.xtext.ui.codetemplates.ui | 2 jars | 0 deps | 0 exported,\n",
       " org.eclipse.xtext.ui.shared | 2 jars | 0 deps | 0 exported,\n",
       " org.eclipse.xtext.util | 2 jars | 0 deps | 0 exported,\n",
       " org.eclipse.xtext.xbase | 2 jars | 0 deps | 0 exported,\n",
       " org.eclipse.xtext.xbase.ide | 2 jars | 0 deps | 0 exported,\n",
       " org.eclipse.xtext.xbase.lib | 2 jars | 0 deps | 0 exported,\n",
       " org.eclipse.xtext.xbase.ui | 2 jars | 0 deps | 0 exported}"
      ]
     },
     "metadata": {},
     "execution_count": 1
    }
   ],
   "source": [
    "import dependency as dp\n",
    "import importlib\n",
    "importlib.reload(dp)\n",
    "from pathlib import Path\n",
    "\n",
    "project = dp.Project(f\"{str(Path.home())}/git/raox/\", \"ru.bmstu.rk9.rao.ui\")\n",
    "bundle = dp.Bundle(\"/Users/algor/.p2/\", project.module_root, project, cache_folder=f\"{str(Path.home())}/.eclipse_vs_code_cache\")\n",
    "# bundle.cache_exported_dependencies(exported_dependencies=list(exported))\n",
    "bundle.update_dependencies()\n",
    "exported = bundle.collect_exported_dependencies()\n",
    "exported"
   ]
  },
  {
   "cell_type": "code",
   "execution_count": 2,
   "metadata": {},
   "outputs": [],
   "source": [
    "bundle.cache_exported_dependencies(exported_dependencies=list(exported))"
   ]
  },
  {
   "cell_type": "code",
   "execution_count": 19,
   "metadata": {},
   "outputs": [],
   "source": [
    "\"\"\"Accepts the following arguments:\n",
    "1. (necessary) path of the project eclipse\n",
    "2. (necessary) string with names of submodules split by space\n",
    "\n",
    "-p2 path to p2 repository\n",
    "-cc convert eclipse project to the code one\n",
    "-ce convert code project back to the eclipse one\n",
    "\n",
    "if -cc is set, -p2 must also be set\n",
    "if -ce is set, will definitely convert back to eclipse format\n",
    "by default -cc is true so p2 must also be given if no -ce is encounterd\n",
    "\n",
    "\"\"\"\n",
    "from pathlib import Path, PurePosixPath\n",
    "import re\n",
    "import argparse\n",
    "from dependency import *\n",
    "\n",
    "DEBUG = True\n",
    "# CONSTS\n",
    "classpath_file_subpath = \".classpath\"\n",
    "dependency_declaration_subpath = \"META-INF/MANIFEST.MF\"\n",
    "to_code = False\n",
    "assert (to_code and args.p2 is not None) or not to_code, \"Tried to convert to code format but no path to p2 repository was given\"\n",
    "\n",
    "# MAIN CODE\n",
    "\n",
    "def inflate_classpaths_with_parsed_dependencies(project_path: str, modules: List[str]):\n",
    "    projects = list(map(lambda x : Project(project_path, x), modules))\n",
    "    project_bundles = list(map(lambda x : Bundle(args.p2, x.module_root, x), projects))\n",
    "    for i in project_bundles:\n",
    "        i.update_dependencies()\n",
    "        print(i)\n",
    "        pretty_print(i.collect_exported_dependencies())\n",
    "        i.merge_with_classpath()\n",
    "\n",
    "def delete_autogens(project_path: str, modules: List[str]):\n",
    "    projects = list(map(lambda x : Project(project_path, x), modules))\n",
    "    project_bundles = list(map(lambda x : Bundle(args.p2, x.module_root, x), projects))\n",
    "    for i in project_bundles:\n",
    "        i.clean_classpath()\n",
    "\n",
    "# inflate_classpaths_with_parsed_dependencies(eclipse_project_path, submodules_relative_paths)\n",
    "\n",
    "# if (to_code):\n",
    "#     inflate_classpaths_with_parsed_dependencies(eclipse_project_path, submodules_relative_paths)\n",
    "# else:\n",
    "#     delete_autogens(eclipse_project_path, submodules_relative_paths)"
   ]
  },
  {
   "cell_type": "code",
   "execution_count": 20,
   "metadata": {},
   "outputs": [
    {
     "output_type": "execute_result",
     "data": {
      "text/plain": [
       "['sasf', '']"
      ]
     },
     "metadata": {},
     "execution_count": 20
    }
   ],
   "source": [
    "string = \"sasf\\n\"\n",
    "string.split(\"\\n\")"
   ]
  },
  {
   "cell_type": "code",
   "execution_count": 21,
   "metadata": {},
   "outputs": [
    {
     "output_type": "execute_result",
     "data": {
      "text/plain": [
       "'sasf'"
      ]
     },
     "metadata": {},
     "execution_count": 21
    }
   ],
   "source": [
    "string.replace(\"\\n\", \"\")"
   ]
  },
  {
   "cell_type": "code",
   "execution_count": null,
   "metadata": {},
   "outputs": [],
   "source": []
  }
 ]
}