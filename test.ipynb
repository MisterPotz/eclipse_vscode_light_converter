{
 "metadata": {
  "language_info": {
   "codemirror_mode": {
    "name": "ipython",
    "version": 3
   },
   "file_extension": ".py",
   "mimetype": "text/x-python",
   "name": "python",
   "nbconvert_exporter": "python",
   "pygments_lexer": "ipython3",
   "version": "3.8.5-final"
  },
  "orig_nbformat": 2,
  "kernelspec": {
   "name": "python3",
   "display_name": "Python 3",
   "language": "python"
  }
 },
 "nbformat": 4,
 "nbformat_minor": 2,
 "cells": [
  {
   "cell_type": "code",
   "execution_count": 13,
   "metadata": {
    "tags": []
   },
   "outputs": [
    {
     "output_type": "stream",
     "name": "stdout",
     "text": [
      "not tycho\n/Users/algor/git/raox/ru.bmstu.rk9.rao.ui/.classpath\n['<?xml version=\"1.0\" encoding=\"UTF-8\"?>\\n', '<classpath>\\n', '\\t<classpathentry kind=\"src\" path=\"src\"/>\\n', '\\t<classpathentry kind=\"src\" path=\"src-gen\">\\n', '\\t\\t<attributes>\\n', '\\t\\t\\t<attribute name=\"ignore_optional_problems\" value=\"true\"/>\\n', '\\t\\t</attributes>\\n', '\\t</classpathentry>\\n', '\\t<classpathentry kind=\"src\" path=\"xtend-gen\"/>\\n', '\\t<classpathentry exported=\"true\" kind=\"lib\" path=\"thirdparty/jgraphx/lib/jgraphx.jar\" sourcepath=\"thirdparty/jgraphx/source/src.zip\"/>\\n', '\\t<classpathentry exported=\"true\" kind=\"lib\" path=\"thirdparty/jfreechart/lib/jcommon-1.0.23.jar\"/>\\n', '\\t<classpathentry exported=\"true\" kind=\"lib\" path=\"thirdparty/jfreechart/lib/jfreechart-1.0.19-experimental.jar\" sourcepath=\"thirdparty/jfreechart/source/experimental.zip\"/>\\n', '\\t<classpathentry exported=\"true\" kind=\"lib\" path=\"thirdparty/jfreechart/lib/jfreechart-1.0.19-swt.jar\" sourcepath=\"thirdparty/jfreechart/source/swt.zip\"/>\\n', '\\t<classpathentry exported=\"true\" kind=\"lib\" path=\"thirdparty/jfreechart/lib/jfreechart-1.0.19.jar\" sourcepath=\"thirdparty/jfreechart/source/source.zip\"/>\\n', '\\t<classpathentry exported=\"true\" kind=\"lib\" path=\"thirdparty/gson/lib/gson-2.6.2.jar\"/>\\n', '\\t<classpathentry kind=\"con\" path=\"org.eclipse.jdt.launching.JRE_CONTAINER/org.eclipse.jdt.internal.debug.ui.launcher.StandardVMType/JavaSE-1.8\"/>\\n', '\\t<classpathentry kind=\"con\" path=\"org.eclipse.pde.core.requiredPlugins\"/>\\n', '\\t<classpathentry kind=\"output\" path=\"bin\"/>\\n', '\\n', '\\n', '\\t<!-- BELOW AUTO GEN -->\\n', '\\n', '\\n', '\\tasdfsdf\\n', '\\tsdf\\n', '\\tsfsfs\\n', '</classpath>\\n']\n['<?xml version=\"1.0\" encoding=\"UTF-8\"?>\\n', '<classpath>\\n', '\\t<classpathentry kind=\"src\" path=\"src\"/>\\n', '\\t<classpathentry kind=\"src\" path=\"src-gen\">\\n', '\\t\\t<attributes>\\n', '\\t\\t\\t<attribute name=\"ignore_optional_problems\" value=\"true\"/>\\n', '\\t\\t</attributes>\\n', '\\t</classpathentry>\\n', '\\t<classpathentry kind=\"src\" path=\"xtend-gen\"/>\\n', '\\t<classpathentry exported=\"true\" kind=\"lib\" path=\"thirdparty/jgraphx/lib/jgraphx.jar\" sourcepath=\"thirdparty/jgraphx/source/src.zip\"/>\\n', '\\t<classpathentry exported=\"true\" kind=\"lib\" path=\"thirdparty/jfreechart/lib/jcommon-1.0.23.jar\"/>\\n', '\\t<classpathentry exported=\"true\" kind=\"lib\" path=\"thirdparty/jfreechart/lib/jfreechart-1.0.19-experimental.jar\" sourcepath=\"thirdparty/jfreechart/source/experimental.zip\"/>\\n', '\\t<classpathentry exported=\"true\" kind=\"lib\" path=\"thirdparty/jfreechart/lib/jfreechart-1.0.19-swt.jar\" sourcepath=\"thirdparty/jfreechart/source/swt.zip\"/>\\n', '\\t<classpathentry exported=\"true\" kind=\"lib\" path=\"thirdparty/jfreechart/lib/jfreechart-1.0.19.jar\" sourcepath=\"thirdparty/jfreechart/source/source.zip\"/>\\n', '\\t<classpathentry exported=\"true\" kind=\"lib\" path=\"thirdparty/gson/lib/gson-2.6.2.jar\"/>\\n', '\\t<classpathentry kind=\"con\" path=\"org.eclipse.jdt.launching.JRE_CONTAINER/org.eclipse.jdt.internal.debug.ui.launcher.StandardVMType/JavaSE-1.8\"/>\\n', '\\t<classpathentry kind=\"con\" path=\"org.eclipse.pde.core.requiredPlugins\"/>\\n', '\\t<classpathentry kind=\"output\" path=\"bin\"/>\\n', '\\n', '\\n']\n['</classpath>\\n']\n['<?xml version=\"1.0\" encoding=\"UTF-8\"?>\\n', '<classpath>\\n', '\\t<classpathentry kind=\"src\" path=\"src\"/>\\n', '\\t<classpathentry kind=\"src\" path=\"src-gen\">\\n', '\\t\\t<attributes>\\n', '\\t\\t\\t<attribute name=\"ignore_optional_problems\" value=\"true\"/>\\n', '\\t\\t</attributes>\\n', '\\t</classpathentry>\\n', '\\t<classpathentry kind=\"src\" path=\"xtend-gen\"/>\\n', '\\t<classpathentry exported=\"true\" kind=\"lib\" path=\"thirdparty/jgraphx/lib/jgraphx.jar\" sourcepath=\"thirdparty/jgraphx/source/src.zip\"/>\\n', '\\t<classpathentry exported=\"true\" kind=\"lib\" path=\"thirdparty/jfreechart/lib/jcommon-1.0.23.jar\"/>\\n', '\\t<classpathentry exported=\"true\" kind=\"lib\" path=\"thirdparty/jfreechart/lib/jfreechart-1.0.19-experimental.jar\" sourcepath=\"thirdparty/jfreechart/source/experimental.zip\"/>\\n', '\\t<classpathentry exported=\"true\" kind=\"lib\" path=\"thirdparty/jfreechart/lib/jfreechart-1.0.19-swt.jar\" sourcepath=\"thirdparty/jfreechart/source/swt.zip\"/>\\n', '\\t<classpathentry exported=\"true\" kind=\"lib\" path=\"thirdparty/jfreechart/lib/jfreechart-1.0.19.jar\" sourcepath=\"thirdparty/jfreechart/source/source.zip\"/>\\n', '\\t<classpathentry exported=\"true\" kind=\"lib\" path=\"thirdparty/gson/lib/gson-2.6.2.jar\"/>\\n', '\\t<classpathentry kind=\"con\" path=\"org.eclipse.jdt.launching.JRE_CONTAINER/org.eclipse.jdt.internal.debug.ui.launcher.StandardVMType/JavaSE-1.8\"/>\\n', '\\t<classpathentry kind=\"con\" path=\"org.eclipse.pde.core.requiredPlugins\"/>\\n', '\\t<classpathentry kind=\"output\" path=\"bin\"/>\\n', '\\n', '\\n', '</classpath>\\n']\n"
     ]
    }
   ],
   "source": [
    "import dependency as dp\n",
    "import importlib\n",
    "importlib.reload(dp)\n",
    "from pathlib import Path\n",
    "\n",
    "project = dp.Project(f\"{str(Path.home())}/git/raox/\", \"ru.bmstu.rk9.rao.ui\")\n",
    "bundle = dp.Bundle(\"/Users/algor/.p2/\", project.module_root, project)\n",
    "bundle.update_jars()\n",
    "bundle.update_dependencies()\n",
    "\n",
    "bundle.clean_classpath()\n",
    "# bundle = dp.Bundle(\"/Users/algor/.p2/\", \"org.eclipse.swt\")\n",
    "# bundle.update_jars()\n",
    "# bundle.update_dependencies()\n",
    "# bundle.dependencies"
   ]
  },
  {
   "cell_type": "code",
   "execution_count": 9,
   "metadata": {},
   "outputs": [],
   "source": [
    "val = ['sdfs', 'sdf', 'sdf', 'sdf']"
   ]
  },
  {
   "cell_type": "code",
   "execution_count": 10,
   "metadata": {},
   "outputs": [
    {
     "output_type": "execute_result",
     "data": {
      "text/plain": [
       "['sdfs', 'sdf', 'sdf', 'sdf', 'sdf']"
      ]
     },
     "metadata": {},
     "execution_count": 10
    }
   ],
   "source": [
    "val1 = ['sdf']\n",
    "val.extend(val1)\n",
    "val"
   ]
  },
  {
   "cell_type": "code",
   "execution_count": null,
   "metadata": {},
   "outputs": [],
   "source": []
  }
 ]
}