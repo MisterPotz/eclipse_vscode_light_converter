{
 "metadata": {
  "language_info": {
   "codemirror_mode": {
    "name": "ipython",
    "version": 3
   },
   "file_extension": ".py",
   "mimetype": "text/x-python",
   "name": "python",
   "nbconvert_exporter": "python",
   "pygments_lexer": "ipython3",
   "version": "3.8.5-final"
  },
  "orig_nbformat": 2,
  "kernelspec": {
   "name": "python3",
   "display_name": "Python 3.8.5 64-bit ('base': conda)",
   "metadata": {
    "interpreter": {
     "hash": "0502f4d0b368ea295d19c82d840b74bf66f130c43fd090cbf09d4b521f9f7a54"
    }
   }
  }
 },
 "nbformat": 4,
 "nbformat_minor": 2,
 "cells": [
  {
   "cell_type": "code",
   "execution_count": 1,
   "metadata": {},
   "outputs": [],
   "source": [
    "import re"
   ]
  },
  {
   "cell_type": "code",
   "execution_count": 51,
   "metadata": {},
   "outputs": [
    {
     "output_type": "stream",
     "name": "stdout",
     "text": [
      "[' org.eclipse.emf.ecore.xmi;bundle-version=\"2.16.0\";visibility:=reexport', 'org.eclipse.emf.ecore;bundle-version=\"2.20.0\";visibility:=reexport', 'org.eclipse.emf.common;bundle-version=\"2.17.0\"', 'org.antlr.runtime;bundle-version=\"[3.2.0,3.2.1)\";visibility:=reexport', 'com.google.inject;bundle-version=\"3.0.0\";visibility:=reexport']\n[ org.eclipse.emf.ecore.xmi : exported True, org.eclipse.emf.ecore : exported True, org.eclipse.emf.common : exported False, org.antlr.runtime : exported True, com.google.inject : exported True]\n"
     ]
    }
   ],
   "source": [
    "classpath_file_subpath = \".classpath\"\n",
    "dependency_declaration_subpath = \"META-INF/MANIFEST.MF\"\n",
    "dependency_declaration_keyword = \"Require-Bundle\"\n",
    "dependency_declaration_word_end = \":\"\n",
    "\n",
    "class Dependency():\n",
    "    def __init__(self, dependency_manifest_string):\n",
    "        params = dependency_manifest_string.split(';')\n",
    "        self.name = params[0]\n",
    "        self.exported = dependency_manifest_string.find(\"reexport\") > 0\n",
    "    def __str__(self):\n",
    "        return f\"{self.name} : exported {self.exported}\"\n",
    "    def __repr__(self):\n",
    "        return f\"{self.name} : exported {self.exported}\"\n",
    "import functools\n",
    "def read_pattern(lines): \n",
    "    require_block_declaration_pattern = re.compile(r\"({})*:[\\ ]*.*\".format(dependency_declaration_keyword))\n",
    "    block_declaration_pattern = re.compile(r\"[a-zA-Z-]*:[\\ ]*.*\") \n",
    "    first_match = False\n",
    "    first_index = 0\n",
    "    last_index = 0\n",
    "    for index, i in enumerate(lines):\n",
    "        if re.fullmatch(require_block_declaration_pattern, i) is not None:\n",
    "            first_index = index\n",
    "            first_match = True\n",
    "            continue\n",
    "        if first_match and re.fullmatch(block_declaration_pattern, i) is not None:\n",
    "            lines = lines[first_index:index]\n",
    "            break\n",
    "    lines = list(map(lambda x: x.strip(), lines))\n",
    "    lines = ''.join(lines)\n",
    "    lines = lines.strip()[lines.find(dependency_declaration_keyword) + len(dependency_declaration_keyword + dependency_declaration_word_end):]\n",
    "    def split_by_commas(lines): \n",
    "        parenthesis_stack = []\n",
    "        new_lines = []\n",
    "        last_index = 0\n",
    "        for index, i in enumerate(lines):\n",
    "            if (i == '\"'):\n",
    "                if (len(parenthesis_stack) > 0):\n",
    "                    parenthesis_stack.pop()\n",
    "                else:\n",
    "                    parenthesis_stack.append(i)\n",
    "            elif (i == ','):\n",
    "                if len(parenthesis_stack) == 0:\n",
    "                    new_lines.append(lines[last_index:index])\n",
    "                    last_index = index + 1\n",
    "        new_lines.append(lines[last_index:])\n",
    "        return new_lines\n",
    "    lines = split_by_commas(lines)\n",
    "    # can be case when ',' was inside brackets\n",
    "    print(lines)\n",
    "    dependencies = list(map(lambda x: Dependency(x), lines))\n",
    "    print(dependencies)\n",
    "\n",
    "\n",
    "test = '''\n",
    "Manifest-Version: 1.0\n",
    "Automatic-Module-Name: org.eclipse.xtext\n",
    "Bundle-SymbolicName: org.eclipse.xtext;singleton:=true\n",
    "Require-Bundle: org.eclipse.emf.ecore.xmi;bundle-version=\"2.16.0\";visi\n",
    " bility:=reexport,org.eclipse.emf.ecore;bundle-version=\"2.20.0\";visibi\n",
    " lity:=reexport,org.eclipse.emf.common;bundle-version=\"2.17.0\",org.ant\n",
    " lr.runtime;bundle-version=\"[3.2.0,3.2.1)\";visibility:=reexport,com.go\n",
    " ogle.inject;bundle-version=\"3.0.0\";visibility:=reexport\n",
    "Bundle-ManifestVersion: 2\n",
    "Bundle-RequiredExecutionEnvironment: JavaSE-1.8\n",
    "Bundle-ActivationPolicy: lazy\n",
    "Eclipse-SourceReferences: scm:git:https://github.com/eclipse/xtext-cor\n",
    " e.git;path=\"org.eclipse.xtext\";commitId=c9b37ed42cd453ac77772f4b24ce4\n",
    " 45df60b4cc8\n",
    "Bundle-Vendor: Eclipse Xtext\n",
    "Import-Package: org.apache.log4j;version=\"1.2.15\",org.osgi.framework\n",
    "Export-Package: org.eclipse.xtext,org.eclipse.xtext.build;x-friends:=\"\n",
    " org.eclipse.xtext.testing,  org.eclipse.xtext.ide,  org.eclipse.xtext\n",
    " .junit4,  org.eclipse.xtext.tests,  org.eclipse.xtend.core.tests\",org\n",
    " .eclipse.xtext.common,org.eclipse.xtext.common.parser.packrat;x-frien\n",
    " ds:=\"org.eclipse.xtext.generator\",org.eclipse.xtext.common.parser.pac\n",
    " krat.consumers;x-friends:=\"org.eclipse.xtext.generator\",org.eclipse.x\n",
    " text.common.services,org.eclipse.xtext.conversion,org.eclipse.xtext.c\n",
    " onversion.impl,org.eclipse.xtext.debug;x-friends:=\"org.eclipse.xtext.\n",
    " builder,\n",
    "'''\n",
    "read_pattern(test.splitlines())"
   ]
  },
  {
   "cell_type": "code",
   "execution_count": 5,
   "metadata": {},
   "outputs": [
    {
     "output_type": "error",
     "ename": "TypeError",
     "evalue": "'builtin_function_or_method' object is not iterable",
     "traceback": [
      "\u001b[0;31m---------------------------------------------------------------------------\u001b[0m",
      "\u001b[0;31mTypeError\u001b[0m                                 Traceback (most recent call last)",
      "\u001b[0;32m<ipython-input-5-5695718d259c>\u001b[0m in \u001b[0;36m<module>\u001b[0;34m\u001b[0m\n\u001b[0;32m----> 1\u001b[0;31m \u001b[0menumerate\u001b[0m\u001b[0;34m(\u001b[0m\u001b[0mtest\u001b[0m\u001b[0;34m.\u001b[0m\u001b[0msplitlines\u001b[0m\u001b[0;34m)\u001b[0m\u001b[0;34m\u001b[0m\u001b[0;34m\u001b[0m\u001b[0m\n\u001b[0m",
      "\u001b[0;31mTypeError\u001b[0m: 'builtin_function_or_method' object is not iterable"
     ]
    }
   ],
   "source": [
    "enumerate(test.splitlines)"
   ]
  },
  {
   "cell_type": "code",
   "execution_count": 24,
   "metadata": {},
   "outputs": [
    {
     "output_type": "execute_result",
     "data": {
      "text/plain": [
       "True"
      ]
     },
     "metadata": {},
     "execution_count": 24
    }
   ],
   "source": [
    "re.fullmatch(compiled, 'Require-Bundle: org.eclipse.emf.ecore.xmi;bundle-version=\"2.16.0\";visi'.strip()) is not None"
   ]
  },
  {
   "cell_type": "code",
   "execution_count": 26,
   "metadata": {},
   "outputs": [
    {
     "output_type": "execute_result",
     "data": {
      "text/plain": [
       "<re.Match object; span=(0, 70), match='Require-Bundle: org.eclipse.emf.ecore.xmi;bundle->"
      ]
     },
     "metadata": {},
     "execution_count": 26
    }
   ],
   "source": [
    "re.fullmatch(r\"({})*:[\\ ]*.*\".format(dependency_declaration_keyword), 'Require-Bundle: org.eclipse.emf.ecore.xmi;bundle-version=\"2.16.0\";visi')"
   ]
  },
  {
   "cell_type": "code",
   "execution_count": null,
   "metadata": {},
   "outputs": [],
   "source": []
  }
 ]
}