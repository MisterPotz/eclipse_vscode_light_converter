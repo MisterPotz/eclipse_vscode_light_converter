{
 "metadata": {
  "language_info": {
   "codemirror_mode": {
    "name": "ipython",
    "version": 3
   },
   "file_extension": ".py",
   "mimetype": "text/x-python",
   "name": "python",
   "nbconvert_exporter": "python",
   "pygments_lexer": "ipython3",
   "version": "3.8.5-final"
  },
  "orig_nbformat": 2,
  "kernelspec": {
   "name": "python3",
   "display_name": "Python 3",
   "language": "python"
  }
 },
 "nbformat": 4,
 "nbformat_minor": 2,
 "cells": [
  {
   "cell_type": "code",
   "execution_count": 46,
   "metadata": {
    "tags": []
   },
   "outputs": [
    {
     "output_type": "stream",
     "name": "stdout",
     "text": [
      "not tycho\n"
     ]
    }
   ],
   "source": [
    "import dependency as dp\n",
    "import importlib\n",
    "importlib.reload(dp)\n",
    "from pathlib import Path\n",
    "\n",
    "project = dp.Project(f\"{str(Path.home())}/git/raox/\", \"ru.bmstu.rk9.rao.ui\")\n",
    "bundle = dp.Bundle(\"/Users/algor/.p2/\", project.module_root, project)\n",
    "bundle.update_jars()\n",
    "bundle.update_dependencies()\n",
    "# bundle = dp.Bundle(\"/Users/algor/.p2/\", \"org.eclipse.swt\")\n",
    "# bundle.update_jars()\n",
    "# bundle.update_dependencies()\n",
    "# bundle.dependencies"
   ]
  },
  {
   "cell_type": "code",
   "execution_count": 49,
   "metadata": {},
   "outputs": [
    {
     "output_type": "stream",
     "name": "stdout",
     "text": [
      "[\n\torg.eclipse.e4.ui.ide | 2 jars | 3 deps | 0 exported,\n\torg.eclipse.xtext.util | 2 jars | 5 deps | 3 exported,\n\torg.eclipse.core.filebuffers | 2 jars | 4 deps | 0 exported,\n\torg.eclipse.ui.ide | 2 jars | 24 deps | 1 exported,\n\torg.eclipse.xtext.ui.codetemplates.ui | 2 jars | 16 deps | 2 exported,\n\torg.eclipse.emf.edit.ui | 2 jars | 9 deps | 4 exported,\n\torg.eclipse.equinox.app | 2 jars | 2 deps | 0 exported,\n\torg.eclipse.core.resources | 2 jars | 4 deps | 0 exported,\n\torg.eclipse.xtext.xbase.ui | 2 jars | 27 deps | 2 exported,\n\torg.eclipse.core.contenttype | 2 jars | 3 deps | 0 exported,\n\torg.eclipse.xtext.common.types.ui | 2 jars | 17 deps | 2 exported,\n\torg.eclipse.emf.mwe.core | 1 jars | 5 deps | 3 exported,\n\torg.eclipse.emf.edit | 2 jars | 4 deps | 3 exported,\n\torg.eclipse.emf.ecore | 2 jars | 3 deps | 1 exported,\n\tcom.google.guava | 2 jars | 0 deps | 0 exported,\n\torg.eclipse.swt | 1 jars | 6 deps | 6 exported,\n\torg.eclipse.ltk.core.refactoring | 2 jars | 7 deps | 0 exported,\n\torg.eclipse.xtend.lib.macro | 2 jars | 1 deps | 1 exported,\n\torg.eclipse.jdt.core | 2 jars | 5 deps | 0 exported,\n\torg.eclipse.emf.ecore.xmi | 2 jars | 2 deps | 1 exported,\n\torg.eclipse.e4.ui.workbench3 | 2 jars | 4 deps | 0 exported,\n\tjavax.inject | 2 jars | 0 deps | 0 exported,\n\torg.eclipse.xtext | 2 jars | 14 deps | 7 exported,\n\torg.eclipse.xtext.xbase.lib | 2 jars | 1 deps | 1 exported,\n\torg.eclipse.xtext.common.types.edit | 2 jars | 3 deps | 0 exported,\n\torg.eclipse.equinox.preferences | 2 jars | 2 deps | 0 exported,\n\torg.eclipse.jface | 2 jars | 4 deps | 2 exported,\n\torg.eclipse.osgi | 2 jars | 0 deps | 0 exported,\n\torg.eclipse.core.jobs | 2 jars | 1 deps | 0 exported,\n\torg.eclipse.emf.common.ui | 2 jars | 6 deps | 1 exported,\n\torg.eclipse.xtext.ui.codetemplates | 2 jars | 7 deps | 0 exported,\n\torg.eclipse.compare.core | 2 jars | 1 deps | 0 exported,\n\torg.eclipse.xtend.lib | 2 jars | 2 deps | 2 exported,\n\torg.eclipse.equinox.common | 2 jars | 0 deps | 0 exported,\n\torg.eclipse.compare | 2 jars | 12 deps | 1 exported,\n\torg.eclipse.xtext.ui.shared | 2 jars | 7 deps | 0 exported,\n\torg.eclipse.ui.editors | 2 jars | 12 deps | 1 exported,\n\torg.eclipse.xtext.common.types | 2 jars | 8 deps | 0 exported,\n\torg.eclipse.xtext.builder | 2 jars | 22 deps | 3 exported,\n\tcom.google.inject | 1 jars | 0 deps | 0 exported,\n\torg.apache.commons.cli | 1 jars | 2 deps | 0 exported,\n\torg.eclipse.emf.ecore.change | 2 jars | 2 deps | 1 exported,\n\torg.eclipse.xtext.xbase | 2 jars | 9 deps | 2 exported,\n\torg.eclipse.ui.workbench | 2 jars | 24 deps | 1 exported,\n\torg.eclipse.core.commands | 2 jars | 1 deps | 0 exported,\n\torg.eclipse.jdt.launching | 2 jars | 8 deps | 0 exported,\n\torg.eclipse.draw2d | 1 jars | 1 deps | 1 exported,\n\torg.eclipse.xtext.ui | 2 jars | 26 deps | 9 exported,\n\torg.eclipse.text | 2 jars | 4 deps | 0 exported,\n\torg.eclipse.xtext.ide | 2 jars | 7 deps | 1 exported,\n\torg.eclipse.xtext.xbase.ide | 2 jars | 5 deps | 1 exported,\n\torg.eclipse.gef | 1 jars | 5 deps | 1 exported,\n\torg.eclipse.emf.common | 2 jars | 1 deps | 0 exported,\n\torg.eclipse.equinox.registry | 2 jars | 1 deps | 0 exported,\n\torg.eclipse.jdt.debug.ui | 2 jars | 23 deps | 0 exported,\n\torg.eclipse.swt.cocoa.macosx.x86_64 | 2 jars | 0 deps | 0 exported,\n\torg.eclipse.debug.core | 2 jars | 5 deps | 1 exported,\n\torg.eclipse.core.runtime | 2 jars | 7 deps | 7 exported,\n\torg.eclipse.emf.mwe2.runtime | 2 jars | 1 deps | 0 exported,\n\torg.eclipse.ui.console | 2 jars | 7 deps | 0 exported,\n\torg.eclipse.jdt.ui | 2 jars | 29 deps | 0 exported,\n\torg.eclipse.emf.mwe.utils | 1 jars | 3 deps | 0 exported,\n\torg.eclipse.ui | 2 jars | 5 deps | 3 exported,\n\torg.eclipse.ui.views | 2 jars | 4 deps | 0 exported,\n\torg.eclipse.debug.ui | 2 jars | 15 deps | 1 exported,\n\torg.eclipse.xtext.ui.codetemplates.ide | 2 jars | 3 deps | 0 exported,\n\torg.eclipse.jface.text | 2 jars | 4 deps | 1 exported,\n\torg.antlr.runtime | 1 jars | 0 deps | 0 exported\n]\n"
     ]
    },
    {
     "output_type": "execute_result",
     "data": {
      "text/plain": [
       "68"
      ]
     },
     "metadata": {},
     "execution_count": 49
    }
   ],
   "source": [
    "exported_deps = bundle.collect_exported_dependencies()\n",
    "dp.pretty_print(exported_deps)\n",
    "len(exported_deps)"
   ]
  },
  {
   "cell_type": "code",
   "execution_count": 34,
   "metadata": {},
   "outputs": [
    {
     "output_type": "execute_result",
     "data": {
      "text/plain": [
       "'/Users/algor'"
      ]
     },
     "metadata": {},
     "execution_count": 34
    }
   ],
   "source": [
    "str(Path.home())"
   ]
  }
 ]
}